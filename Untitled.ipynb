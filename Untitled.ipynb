{
 "cells": [
  {
   "cell_type": "code",
   "execution_count": 2,
   "id": "bound-account",
   "metadata": {},
   "outputs": [],
   "source": [
    "data = [1101,1,29,67,1102,0,1,65,1008,65,35,66,1005,66,28,1,67,65,20,4,0,1001,65,1,65,1106,0,8,99,35,67,101,99,105,32,110,39,101,115,116,32,112,97,115,32,117,110,101,32,105,110,116,99,111,100,101,32,112,114,111,103,114,97,109,10,160,1267,277,1068,422,1235,790,1391,45,252,513,1029,414,216,409,1373,1419,1176,757,64,748,835,20,436,147,347,1264,1532,240,272,430,7,85,51,12,107,1277,779,867,260,802,361,89,754,206,80,25,559,220,657,178,186,2,31,825,290,144,379,0,1682,1166,1241,180,102,464,444,122,718,25,100,1050,1358,604,546,1157,130,59,127,1351,238,97,75,821,265,23,786,116,115,93,730,1340,777,1114,263,352,115,5,69,1041,101,1222,203,1273,217,28,976,425,480,7,124,45,192,860,312,1107,1040,137,306,523,692,590,562,789,383,145,86,297,791,240,697,22,230,834,963,837,1164,1758,487,414,86,1026,1034,478,613,1,769,85,980,935,1455,16,204,170,380,324,14,699,220,50,451,738,52,437,963,718,178,508,711,1739,936,1515,246,908,126,602,295,591,22,484,752,1,1442,167,132,52,613,1172,353,36,56,468,123,393,765,1456,218,269,6,20,649,727,454,86,640,1113,836,124,405,571,882,107,75,730,346,94,35,626,1174,299,392,1449,502,854,500,128,852,248,645,159,774,155,884,1336,285,426,0,269,466,1483,93,13,17,255,295,530,694,1178,968,612,224,160,32,1154,194,494,24,845,43,274,344,301,486,43,351,581,929,168,1629,163,206,98,1242,1242,1706,1777,721,293,1621,132,199,12,66,247,1244,333,445,154,795,70,424,11,826,835,250,288,408,516,822,411,69,636,521,152,67,401,531,186,933,515,780,490,201,369,111,266,952,400,677,372,548,1325,1111,17,543,1293,20,507,74,116,656,644,872,35,80,1273,279,475,1585,1446,651,1338,285,284,23,1130,237,843,121,53,81,573,5,956,276,553,1084,544,731,35,16,53,34,405,1337,665,303,10,108,1132,233,3,834,415,161,409,1055,202,707,296,341,57,521,548,15,137,359,57,388,282,267,293,1450,28,424,819,941,1388,474,687,87,271,1462,522,33,26,841,345,104,150,573,481,297,1075,489,420,424,340,504,685,105,898,870,206,129,516,492,42,216,1829,1317,10,60,54,255,103,457,257,101,93,981,412,67,519,574,169,799,381,1509,60,409,51,151,464,1676,916,18,30,772,1566,1283,359,1260,10,405,750,160,181,541,358,213,300,1073,328,399,214,119,478,889,65,56,1077,1427,52,359,90,42,1248,336,51,1396,509,237,785,440,806,339,99,354,640,272,665,772,135,91,11,175,128,482,1244,1243,629,137,140,1003,626,433,391,731,1180,671,169,710,1561,385,1281,272,236,318,207,1323,16,233,9,720,295,34,183,362,987,1016,366,760,1244,878,600,275,1209,41,792,951,85,636,125,217,342,184,581,1300,66,165,804,285,756,96,278,598,163,655,138,869,537,141,1364,897,406,617,65,444,244,494,172,119,358,1183,310,226,98,550,634,948,985,247,1499,729,165,371,939,299,761,477,1480,840,3,319,675,492,564,3,3,80,182,69,460,341,789,742,46,1309,360,48,296,363,946,214,252,54,147,435,85,276,1072,23,71,755,572,268,1362,619,639,365,623,1560,322,535,997,1021,317,663,82,314,857,16,194,363,24,240,1596,1123,242,816,116,645,64,38,589,428,147,632,457,555,908,921,202,182,403,551,358,483,1195,1213,28,1156,725,320,16,74,931,103,145,146,1206,433,1052,158,531,699,675,379,393,475,384,1041,141,1248,521,136,326,199,725,200,465,796,724,672,569,70,663,15,150,131,1261,17,1211,66,175,608,17,81,551,627,1469,1032,342,2,972,184,798,960,22,55,462,1,151,91,119,76,1062,96,1424,567,366,831,633,205,691,50,1314,732,558,167,1624,5,147,47,110,250,935,177,445,79,306,653,47,75,626,173,104,354,573,523,46,46,757,541,431,1129,787,502,1328,1093,82,872,1876,1386,136,504,273,194,297,0,163,1025,996,354,1457,1127,52,45,1364,1128,457,1576,282,573,1648,16,28,582,768,92,92,817,1515,297,349,97,1523,634,923,76,1174,552,347,750,326,221,149,0,188,791,251,113,1,71,92,393,103,618,335,97,236,418,256,764,435,411,941,74,423,443,27,427,178,262,181,362,156,572,324,684,796,249,288,413,132,29,444,766,1135,1235,208,231,620,1481,228,174,133,918,1825,618,663,22,124,119,52,159,1318,1724,338,243,206,127,436,163,297,617,141,59,65,20,164,11,126,363,150,726,217,1282,1708,118,1055,60,603,852,170,1097,58,213,495,566,673,1607,994,539,1655]"
   ]
  },
  {
   "cell_type": "code",
   "execution_count": 1,
   "id": "honey-collectible",
   "metadata": {},
   "outputs": [],
   "source": [
    "import numpy as np"
   ]
  },
  {
   "cell_type": "code",
   "execution_count": 5,
   "id": "distributed-nebraska",
   "metadata": {},
   "outputs": [],
   "source": [
    "import matplotlib.pyplot as plt"
   ]
  },
  {
   "cell_type": "code",
   "execution_count": 19,
   "id": "regulation-knife",
   "metadata": {},
   "outputs": [
    {
     "data": {
      "text/plain": [
       "array([   0,    0,    0,    0,    0,    0,    0,    1,    1,    1,    1,\n",
       "          1,    1,    1,    1,    2,    2,    3,    3,    3,    3,    4,\n",
       "          5,    5,    5,    6,    7,    7,    8,    9,   10,   10,   10,\n",
       "         10,   11,   11,   11,   12,   12,   13,   14,   15,   15,   16,\n",
       "         16,   16,   16,   16,   16,   17,   17,   17,   17,   18,   20,\n",
       "         20,   20,   20,   20,   22,   22,   22,   22,   23,   23,   23,\n",
       "         24,   24,   25,   25,   26,   27,   28,   28,   28,   28,   28,\n",
       "         29,   29,   30,   31,   32,   32,   32,   32,   32,   32,   33,\n",
       "         34,   34,   35,   35,   35,   35,   35,   36,   38,   39,   41,\n",
       "         42,   42,   43,   43,   45,   45,   45,   46,   46,   46,   47,\n",
       "         47,   48,   50,   50,   51,   51,   51,   52,   52,   52,   52,\n",
       "         52,   53,   53,   54,   54,   55,   56,   56,   57,   57,   58,\n",
       "         59,   59,   60,   60,   60,   64,   64,   65,   65,   65,   65,\n",
       "         65,   65,   65,   65,   66,   66,   66,   66,   66,   67,   67,\n",
       "         67,   67,   67,   69,   69,   69,   70,   70,   71,   71,   74,\n",
       "         74,   74,   75,   75,   75,   76,   76,   79,   80,   80,   80,\n",
       "         81,   81,   82,   82,   85,   85,   85,   85,   86,   86,   86,\n",
       "         87,   89,   90,   91,   91,   92,   92,   92,   93,   93,   93,\n",
       "         94,   96,   96,   97,   97,   97,   97,   97,   98,   98,   99,\n",
       "         99,   99,   99,  100,  100,  101,  101,  101,  101,  101,  101,\n",
       "        102,  103,  103,  103,  103,  104,  104,  105,  105,  105,  107,\n",
       "        107,  108,  109,  110,  110,  110,  110,  111,  111,  111,  112,\n",
       "        112,  113,  114,  114,  115,  115,  115,  115,  116,  116,  116,\n",
       "        116,  116,  117,  118,  119,  119,  119,  119,  121,  122,  123,\n",
       "        124,  124,  124,  125,  126,  126,  127,  127,  128,  128,  129,\n",
       "        130,  131,  132,  132,  132,  133,  135,  136,  136,  137,  137,\n",
       "        137,  138,  140,  141,  141,  141,  144,  145,  145,  146,  147,\n",
       "        147,  147,  147,  149,  150,  150,  150,  151,  151,  152,  154,\n",
       "        155,  156,  158,  159,  159,  160,  160,  160,  161,  163,  163,\n",
       "        163,  163,  164,  165,  165,  167,  167,  168,  169,  169,  170,\n",
       "        170,  172,  173,  174,  175,  175,  177,  178,  178,  178,  180,\n",
       "        181,  181,  182,  182,  183,  184,  184,  186,  186,  188,  192,\n",
       "        194,  194,  194,  199,  199,  200,  201,  202,  202,  203,  204,\n",
       "        205,  206,  206,  206,  206,  207,  208,  213,  213,  214,  214,\n",
       "        216,  216,  217,  217,  217,  218,  220,  220,  221,  224,  226,\n",
       "        228,  230,  231,  233,  233,  236,  236,  237,  237,  238,  240,\n",
       "        240,  240,  242,  243,  244,  246,  247,  247,  248,  249,  250,\n",
       "        250,  251,  252,  252,  255,  255,  256,  257,  260,  262,  263,\n",
       "        265,  266,  267,  268,  269,  269,  271,  272,  272,  272,  273,\n",
       "        274,  275,  276,  276,  277,  278,  279,  282,  282,  284,  285,\n",
       "        285,  285,  288,  288,  290,  293,  293,  295,  295,  295,  296,\n",
       "        296,  297,  297,  297,  297,  297,  299,  299,  300,  301,  303,\n",
       "        306,  306,  310,  312,  314,  317,  318,  319,  320,  322,  324,\n",
       "        324,  326,  326,  328,  333,  335,  336,  338,  339,  340,  341,\n",
       "        341,  342,  342,  344,  345,  346,  347,  347,  349,  351,  352,\n",
       "        353,  354,  354,  354,  358,  358,  358,  359,  359,  359,  360,\n",
       "        361,  362,  362,  363,  363,  363,  365,  366,  366,  369,  371,\n",
       "        372,  379,  379,  380,  381,  383,  384,  385,  388,  391,  392,\n",
       "        393,  393,  393,  399,  400,  401,  403,  405,  405,  405,  406,\n",
       "        408,  409,  409,  409,  411,  411,  412,  413,  414,  414,  415,\n",
       "        418,  420,  422,  423,  424,  424,  424,  425,  426,  427,  428,\n",
       "        430,  431,  433,  433,  435,  435,  436,  436,  437,  440,  443,\n",
       "        444,  444,  444,  445,  445,  451,  454,  457,  457,  457,  460,\n",
       "        462,  464,  464,  465,  466,  468,  474,  475,  475,  477,  478,\n",
       "        478,  480,  481,  482,  483,  484,  486,  487,  489,  490,  492,\n",
       "        492,  494,  494,  495,  500,  502,  502,  504,  504,  507,  508,\n",
       "        509,  513,  515,  516,  516,  519,  521,  521,  521,  522,  523,\n",
       "        523,  530,  531,  531,  535,  537,  539,  541,  541,  543,  544,\n",
       "        546,  548,  548,  550,  551,  551,  552,  553,  555,  558,  559,\n",
       "        562,  564,  566,  567,  569,  571,  572,  572,  573,  573,  573,\n",
       "        573,  574,  581,  581,  582,  589,  590,  591,  598,  600,  602,\n",
       "        603,  604,  608,  612,  613,  613,  617,  617,  618,  618,  619,\n",
       "        620,  623,  626,  626,  626,  627,  629,  632,  633,  634,  634,\n",
       "        636,  636,  639,  640,  640,  644,  645,  645,  649,  651,  653,\n",
       "        655,  656,  657,  663,  663,  663,  665,  665,  671,  672,  673,\n",
       "        675,  675,  677,  684,  685,  687,  691,  692,  694,  697,  699,\n",
       "        699,  707,  710,  711,  718,  718,  720,  721,  724,  725,  725,\n",
       "        726,  727,  729,  730,  730,  731,  731,  732,  738,  742,  748,\n",
       "        750,  750,  752,  754,  755,  756,  757,  757,  760,  761,  764,\n",
       "        765,  766,  768,  769,  772,  772,  774,  777,  779,  780,  785,\n",
       "        786,  787,  789,  789,  790,  791,  791,  792,  795,  796,  796,\n",
       "        798,  799,  802,  804,  806,  816,  817,  819,  821,  822,  825,\n",
       "        826,  831,  834,  834,  835,  835,  836,  837,  840,  841,  843,\n",
       "        845,  852,  852,  854,  857,  860,  867,  869,  870,  872,  872,\n",
       "        878,  882,  884,  889,  897,  898,  908,  908,  916,  918,  921,\n",
       "        923,  929,  931,  933,  935,  935,  936,  939,  941,  941,  946,\n",
       "        948,  951,  952,  956,  960,  963,  963,  968,  972,  976,  980,\n",
       "        981,  985,  987,  994,  996,  997, 1001, 1003, 1005, 1008, 1016,\n",
       "       1021, 1025, 1026, 1029, 1032, 1034, 1040, 1041, 1041, 1050, 1052,\n",
       "       1055, 1055, 1062, 1068, 1072, 1073, 1075, 1077, 1084, 1093, 1097,\n",
       "       1101, 1102, 1106, 1107, 1111, 1113, 1114, 1123, 1127, 1128, 1129,\n",
       "       1130, 1132, 1135, 1154, 1156, 1157, 1164, 1166, 1172, 1174, 1174,\n",
       "       1176, 1178, 1180, 1183, 1195, 1206, 1209, 1211, 1213, 1222, 1235,\n",
       "       1235, 1241, 1242, 1242, 1243, 1244, 1244, 1244, 1248, 1248, 1260,\n",
       "       1261, 1264, 1267, 1273, 1273, 1277, 1281, 1282, 1283, 1293, 1300,\n",
       "       1309, 1314, 1317, 1318, 1323, 1325, 1328, 1336, 1337, 1338, 1340,\n",
       "       1351, 1358, 1362, 1364, 1364, 1373, 1386, 1388, 1391, 1396, 1419,\n",
       "       1424, 1427, 1442, 1446, 1449, 1450, 1455, 1456, 1457, 1462, 1469,\n",
       "       1480, 1481, 1483, 1499, 1509, 1515, 1515, 1523, 1532, 1560, 1561,\n",
       "       1566, 1576, 1585, 1596, 1607, 1621, 1624, 1629, 1648, 1655, 1676,\n",
       "       1682, 1706, 1708, 1724, 1739, 1758, 1777, 1825, 1829, 1876])"
      ]
     },
     "execution_count": 19,
     "metadata": {},
     "output_type": "execute_result"
    }
   ],
   "source": [
    "arr = np.sort(np.array(data))\n",
    "arr"
   ]
  },
  {
   "cell_type": "code",
   "execution_count": 20,
   "id": "global-retreat",
   "metadata": {},
   "outputs": [
    {
     "data": {
      "text/plain": [
       "{'whiskers': [<matplotlib.lines.Line2D at 0x11244b6a0>,\n",
       "  <matplotlib.lines.Line2D at 0x11244ba00>],\n",
       " 'caps': [<matplotlib.lines.Line2D at 0x11244bd60>,\n",
       "  <matplotlib.lines.Line2D at 0x112456100>],\n",
       " 'boxes': [<matplotlib.lines.Line2D at 0x11244b3a0>],\n",
       " 'medians': [<matplotlib.lines.Line2D at 0x112456460>],\n",
       " 'fliers': [<matplotlib.lines.Line2D at 0x1124567c0>],\n",
       " 'means': []}"
      ]
     },
     "execution_count": 20,
     "metadata": {},
     "output_type": "execute_result"
    },
    {
     "data": {
      "image/png": "[encoded data removed]",
      "text/plain": [
       "<Figure size 432x288 with 1 Axes>"
      ]
     },
     "metadata": {
      "needs_background": "light"
     },
     "output_type": "display_data"
    }
   ],
   "source": [
    "plt.boxplot(arr)"
   ]
  },
  {
   "cell_type": "code",
   "execution_count": 21,
   "id": "responsible-marine",
   "metadata": {},
   "outputs": [
    {
     "data": {
      "text/plain": [
       "[<matplotlib.lines.Line2D at 0x11249df70>]"
      ]
     },
     "execution_count": 21,
     "metadata": {},
     "output_type": "execute_result"
    },
    {
     "data": {
      "image/png": "[encoded data removed]",
      "text/plain": [
       "<Figure size 432x288 with 1 Axes>"
      ]
     },
     "metadata": {
      "needs_background": "light"
     },
     "output_type": "display_data"
    }
   ],
   "source": [
    "plt.plot(arr)"
   ]
  },
  {
   "cell_type": "code",
   "execution_count": 24,
   "id": "wireless-qatar",
   "metadata": {},
   "outputs": [
    {
     "data": {
      "text/plain": [
       "482.596"
      ]
     },
     "execution_count": 24,
     "metadata": {},
     "output_type": "execute_result"
    }
   ],
   "source": [
    "m = np.mean(arr)\n",
    "m"
   ]
  },
  {
   "cell_type": "code",
   "execution_count": 25,
   "id": "restricted-nickel",
   "metadata": {},
   "outputs": [
    {
     "data": {
      "text/plain": [
       "358.0"
      ]
     },
     "execution_count": 25,
     "metadata": {},
     "output_type": "execute_result"
    }
   ],
   "source": [
    "median = np.median(arr)\n",
    "median"
   ]
  },
  {
   "cell_type": "code",
   "execution_count": null,
   "id": "abstract-daniel",
   "metadata": {},
   "outputs": [],
   "source": [
    "  def distance(arr, num)\n",
    "    arr.map{ |n| (n - num).abs}\n",
    "  end"
   ]
  }
 ],
 "metadata": {
  "kernelspec": {
   "display_name": "Python 3",
   "language": "python",
   "name": "python3"
  },
  "language_info": {
   "codemirror_mode": {
    "name": "ipython",
    "version": 3
   },
   "file_extension": ".py",
   "mimetype": "text/x-python",
   "name": "python",
   "nbconvert_exporter": "python",
   "pygments_lexer": "ipython3",
   "version": "3.8.6"
  },
  "toc": {
   "base_numbering": 1,
   "nav_menu": {},
   "number_sections": true,
   "sideBar": true,
   "skip_h1_title": false,
   "title_cell": "Table of Contents",
   "title_sidebar": "Contents",
   "toc_cell": false,
   "toc_position": {},
   "toc_section_display": true,
   "toc_window_display": false
  },
  "varInspector": {
   "cols": {
    "lenName": 16,
    "lenType": 16,
    "lenVar": 40
   },
   "kernels_config": {
    "python": {
     "delete_cmd_postfix": "",
     "delete_cmd_prefix": "del ",
     "library": "var_list.py",
     "varRefreshCmd": "print(var_dic_list())"
    },
    "r": {
     "delete_cmd_postfix": ") ",
     "delete_cmd_prefix": "rm(",
     "library": "var_list.r",
     "varRefreshCmd": "cat(var_dic_list()) "
    }
   },
   "types_to_exclude": [
    "module",
    "function",
    "builtin_function_or_method",
    "instance",
    "_Feature"
   ],
   "window_display": false
  }
 },
 "nbformat": 4,
 "nbformat_minor": 5
}
